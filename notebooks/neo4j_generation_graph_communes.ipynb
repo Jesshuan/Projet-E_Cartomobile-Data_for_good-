{
 "cells": [
  {
   "attachments": {},
   "cell_type": "markdown",
   "metadata": {},
   "source": [
    "#### Génération du graph \"communes\" dans Neo4J"
   ]
  },
  {
   "attachments": {},
   "cell_type": "markdown",
   "metadata": {},
   "source": [
    "Notebook amorcé par : Jesshuan"
   ]
  },
  {
   "attachments": {},
   "cell_type": "markdown",
   "metadata": {},
   "source": [
    "Objectifs :\n",
    "\n",
    "- Récupération du graph sous forme edges et nodes depuis les notebooks de mika... (fichier finalement transféré à l'a'ncienne)\n",
    "\n",
    "- Génération dans une base de données locale Neo4j"
   ]
  },
  {
   "attachments": {},
   "cell_type": "markdown",
   "metadata": {},
   "source": [
    "Imports :"
   ]
  },
  {
   "cell_type": "code",
   "execution_count": 1,
   "metadata": {},
   "outputs": [],
   "source": [
    "import geopandas as gpd\n",
    "import pandas as pd\n",
    "import geopy.distance\n",
    "import os\n",
    "import numpy as np\n",
    "import matplotlib.pyplot as plt\n",
    "import plotly.express as px\n",
    "import copy\n",
    "import joblib\n",
    "\n",
    "from neo4j import GraphDatabase, basic_auth"
   ]
  },
  {
   "cell_type": "code",
   "execution_count": 2,
   "metadata": {},
   "outputs": [],
   "source": [
    "PASSWORD_NEO4J = 'passwordneo4j'"
   ]
  },
  {
   "attachments": {},
   "cell_type": "markdown",
   "metadata": {},
   "source": [
    "--------"
   ]
  },
  {
   "cell_type": "code",
   "execution_count": 3,
   "metadata": {},
   "outputs": [
    {
     "data": {
      "text/plain": [
       "['Ain',\n",
       " 'Allier',\n",
       " 'Ardèche',\n",
       " 'Cantal',\n",
       " 'Drôme',\n",
       " 'Isère',\n",
       " 'Loire',\n",
       " 'Haute-Loire',\n",
       " 'Puy-de-Dôme',\n",
       " 'Rhône',\n",
       " 'Savoie',\n",
       " 'Haute-Savoie',\n",
       " \"Côte-d'Or\",\n",
       " 'Doubs',\n",
       " 'Jura',\n",
       " 'Nièvre',\n",
       " 'Haute-Saône',\n",
       " 'Saône-et-Loire',\n",
       " 'Yonne',\n",
       " 'Territoire de Belfort',\n",
       " \"Côtes-d'Armor\",\n",
       " 'Finistère',\n",
       " 'Ille-et-Vilaine',\n",
       " 'Morbihan',\n",
       " 'Cher',\n",
       " 'Eure-et-Loir',\n",
       " 'Indre',\n",
       " 'Indre-et-Loire',\n",
       " 'Loir-et-Cher',\n",
       " 'Loiret',\n",
       " 'Ardennes',\n",
       " 'Aube',\n",
       " 'Marne',\n",
       " 'Haute-Marne',\n",
       " 'Meurthe-et-Moselle',\n",
       " 'Meuse',\n",
       " 'Moselle',\n",
       " 'Bas-Rhin',\n",
       " 'Haut-Rhin',\n",
       " 'Vosges',\n",
       " 'Aisne',\n",
       " 'Nord',\n",
       " 'Oise',\n",
       " 'Pas-de-Calais',\n",
       " 'Somme',\n",
       " 'Paris',\n",
       " 'Seine-et-Marne',\n",
       " 'Yvelines',\n",
       " 'Essonne',\n",
       " 'Hauts-de-Seine',\n",
       " 'Seine-Saint-Denis',\n",
       " 'Val-de-Marne',\n",
       " \"Val-d'Oise\",\n",
       " 'Calvados',\n",
       " 'Eure',\n",
       " 'Manche',\n",
       " 'Orne',\n",
       " 'Seine-Maritime',\n",
       " 'Charente',\n",
       " 'Charente-Maritime',\n",
       " 'Corrèze',\n",
       " 'Creuse',\n",
       " 'Dordogne',\n",
       " 'Gironde',\n",
       " 'Landes',\n",
       " 'Lot-et-Garonne',\n",
       " 'Pyrénées-Atlantiques',\n",
       " 'Deux-Sèvres',\n",
       " 'Vienne',\n",
       " 'Haute-Vienne',\n",
       " 'Ariège',\n",
       " 'Aude',\n",
       " 'Aveyron',\n",
       " 'Gard',\n",
       " 'Haute-Garonne',\n",
       " 'Gers',\n",
       " 'Hérault',\n",
       " 'Lot',\n",
       " 'Lozère',\n",
       " 'Hautes-Pyrénées',\n",
       " 'Pyrénées-Orientales',\n",
       " 'Tarn',\n",
       " 'Tarn-et-Garonne',\n",
       " 'Loire-Atlantique',\n",
       " 'Maine-et-Loire',\n",
       " 'Mayenne',\n",
       " 'Sarthe',\n",
       " 'Vendée',\n",
       " 'Alpes-de-Haute-Provence',\n",
       " 'Hautes-Alpes',\n",
       " 'Alpes-Maritimes',\n",
       " 'Bouches-du-Rhône',\n",
       " 'Var',\n",
       " 'Vaucluse']"
      ]
     },
     "execution_count": 3,
     "metadata": {},
     "output_type": "execute_result"
    }
   ],
   "source": [
    "class CFG:\n",
    "    area = [\n",
    "        'Auvergne-Rhône-Alpes',\n",
    "    'Bourgogne-Franche-Comté',\n",
    "    'Brittany',\n",
    "    'Centre-Val de Loire',\n",
    "    'Grand Est',\n",
    "    'Hauts-de-France',\n",
    "    'Île-de-France',\n",
    "    'Normandie',\n",
    "    'Nouvelle-Aquitaine',\n",
    "    'Occitanie',\n",
    "    'Pays de la Loire',\n",
    "    'Provence-Alpes-Côte d\\'Azur'\n",
    "]\n",
    "    area_name = 'france'      #'_'.join(area)\n",
    "\n",
    "    \n",
    "\n",
    "    bornes = False\n",
    "\n",
    "    viz = False\n",
    "\n",
    "    roads = (\n",
    "        '|motorway'\n",
    "        '|motorway_link'\n",
    "        '|trunk'\n",
    "        '|trunk_link'\n",
    "        '|primary'\n",
    "        '|primary_link'\n",
    "        '|secondary'\n",
    "        '|secondary_link'\n",
    "        '|tertiary'\n",
    "         '|tertiary_link'\n",
    "    )\n",
    "\n",
    "        # '|primary'\n",
    "        # '|motorway_link'\n",
    "        \n",
    "        # '|primary_link'\n",
    "\n",
    "        # '|secondary'\n",
    "        # '|secondary_link'\n",
    "        \n",
    "        \n",
    "        #  '|tertiary'\n",
    "        #  '|tertiary_link'\n",
    "\n",
    "    data_path = './osm_datas/'\n",
    "\n",
    "import joblib\n",
    "joblib.dump(CFG.area, 'CFG.pkl')    \n",
    "import os\n",
    "os.environ['USE_PYGEOS'] = '0'\n",
    "%load_ext autoreload\n",
    "%autoreload\n",
    "\n",
    "\n",
    "\n",
    "%aimport OSM_helper_functions\n",
    "%aimport OCM_helper_functions\n",
    "\n",
    "import os\n",
    "os.environ['USE_PYGEOS'] = '0'\n",
    "import geopandas as gpd\n",
    "import osmnx as ox\n",
    "import networkx as nx\n",
    "from tqdm.notebook import tqdm\n",
    "from OSM_helper_functions import *\n",
    "from OCM_helper_functions import *\n",
    "\n",
    "\n",
    "ox.settings.log_console=True\n",
    "ox.settings.use_cache=True\n",
    "''' To retrieve http data from OSMnx and cache them locally\n",
    "    before building graph. Raise and exception if requests\n",
    "    are all done. intercept then set to False and retry.'''\n",
    "# ox.settings.cache_only_mode=True \n",
    "\n",
    "Administratives = {\n",
    "    'Auvergne-Rhône-Alpes': ['Ain', 'Allier', 'Ardèche', 'Cantal', 'Drôme', 'Isère', 'Loire', 'Haute-Loire', 'Puy-de-Dôme', 'Rhône', 'Savoie', 'Haute-Savoie'],\n",
    "    'Bourgogne-Franche-Comté': ['Côte-d\\'Or', 'Doubs', 'Jura', 'Nièvre', 'Haute-Saône', 'Saône-et-Loire', 'Yonne', 'Territoire de Belfort'],\n",
    "    'Brittany': ['Côtes-d\\'Armor', 'Finistère', 'Ille-et-Vilaine', 'Morbihan'],\n",
    "    'Centre-Val de Loire': ['Cher', 'Eure-et-Loir', 'Indre', 'Indre-et-Loire', 'Loir-et-Cher', 'Loiret'],\n",
    "    # 'Corse': ['Corse-du-Sud', 'Haute-Corse'],\n",
    "    'Grand Est': ['Ardennes', 'Aube', 'Marne', 'Haute-Marne', 'Meurthe-et-Moselle', 'Meuse', 'Moselle', 'Bas-Rhin', 'Haut-Rhin', 'Vosges'],\n",
    "    'Hauts-de-France': ['Aisne', 'Nord', 'Oise', 'Pas-de-Calais', 'Somme'],\n",
    "    'Île-de-France': ['Paris', 'Seine-et-Marne', 'Yvelines', 'Essonne', 'Hauts-de-Seine', 'Seine-Saint-Denis', 'Val-de-Marne', 'Val-d\\'Oise'],\n",
    "    'Normandie': ['Calvados', 'Eure', 'Manche', 'Orne', 'Seine-Maritime'],\n",
    "    'Nouvelle-Aquitaine': ['Charente', 'Charente-Maritime', 'Corrèze', 'Creuse', 'Dordogne', 'Gironde', 'Landes', 'Lot-et-Garonne', 'Pyrénées-Atlantiques', 'Deux-Sèvres', 'Vienne', 'Haute-Vienne'],\n",
    "    'Occitanie': ['Ariège', 'Aude', 'Aveyron', 'Gard', 'Haute-Garonne', 'Gers', 'Hérault', 'Lot', 'Lozère', 'Hautes-Pyrénées', 'Pyrénées-Orientales', 'Tarn', 'Tarn-et-Garonne'],\n",
    "    'Pays de la Loire': ['Loire-Atlantique', 'Maine-et-Loire', 'Mayenne', 'Sarthe', 'Vendée'],\n",
    "    'Provence-Alpes-Côte d\\'Azur': ['Alpes-de-Haute-Provence', 'Hautes-Alpes', 'Alpes-Maritimes', 'Bouches-du-Rhône', 'Var', 'Vaucluse']\n",
    "}\n",
    "\n",
    "Regions = [\n",
    "    'Auvergne-Rhône-Alpes',\n",
    "    'Bourgogne-Franche-Comté',\n",
    "    'Brittany',\n",
    "    'Centre-Val de Loire',\n",
    "    # 'Corse',\n",
    "    'Grand Est',\n",
    "    'Hauts-de-France',\n",
    "    'Île-de-France',\n",
    "    'Normandie',\n",
    "    'Nouvelle-Aquitaine',\n",
    "    'Occitanie',\n",
    "    'Pays de la Loire',\n",
    "    'Provence-Alpes-Côte d\\'Azur'\n",
    "]\n",
    "\n",
    "Name2num = {\n",
    "    'Ain': '01',\n",
    "    'Aisne': '02',\n",
    "    'Allier': '03',\n",
    "    'Alpes-de-Haute-Provence': '04',\n",
    "    'Hautes-Alpes': '05',\n",
    "    'Alpes-Maritimes': '06',\n",
    "    'Ardèche': '07',\n",
    "    'Ardennes': '08',\n",
    "    'Ariège': '09',\n",
    "    'Aube': '10',\n",
    "    'Aude': '11',\n",
    "    'Aveyron': '12',\n",
    "    'Bouches-du-Rhône': '13',\n",
    "    'Calvados': '14',\n",
    "    'Cantal': '15',\n",
    "    'Charente': '16',\n",
    "    'Charente-Maritime': '17',\n",
    "    'Cher': '18',\n",
    "    'Corrèze': '19',\n",
    "    # 'Corse-du-Sud': '2A',\n",
    "    # 'Haute-Corse': '2B',\n",
    "    'Côte-d\\'Or': '21',\n",
    "    'Côtes-d\\'Armor': '22',\n",
    "    'Creuse': '23',\n",
    "    'Dordogne': '24',\n",
    "    'Doubs': '25',\n",
    "    'Drôme': '26',\n",
    "    'Eure': '27',\n",
    "    'Eure-et-Loir': '28',\n",
    "    'Finistère': '29',\n",
    "    'Gard': '30',\n",
    "    'Haute-Garonne': '31',\n",
    "    'Gers': '32',\n",
    "    'Gironde': '33',\n",
    "    'Hérault': '34',\n",
    "    'Ille-et-Vilaine': '35',\n",
    "    'Indre': '36',\n",
    "    'Indre-et-Loire': '37',\n",
    "    'Isère': '38',\n",
    "    'Jura': '39',\n",
    "    'Landes': '40',\n",
    "    'Loir-et-Cher': '41',\n",
    "    'Loire': '42',\n",
    "    'Haute-Loire': '43',\n",
    "    'Loire-Atlantique': '44',\n",
    "    'Loiret': '45',\n",
    "    'Lot': '46',\n",
    "    'Lot-et-Garonne': '47',\n",
    "    'Lozère': '48',\n",
    "    'Maine-et-Loire': '49',\n",
    "    'Manche': '50',\n",
    "    'Marne': '51',\n",
    "    'Haute-Marne': '52',\n",
    "    'Mayenne': '53',\n",
    "    'Meurthe-et-Moselle': '54',\n",
    "    'Meuse': '55',\n",
    "    'Morbihan': '56',\n",
    "    'Moselle': '57',\n",
    "    'Nièvre': '58',\n",
    "    'Nord': '59',\n",
    "    'Oise': '60',\n",
    "    'Orne': '61',\n",
    "    'Pas-de-Calais': '62',\n",
    "    'Puy-de-Dôme': '63',\n",
    "    'Pyrénées-Atlantiques': '64',\n",
    "    'Hautes-Pyrénées': '65',\n",
    "    'Pyrénées-Orientales': '66',\n",
    "    'Bas-Rhin': '67',\n",
    "    'Haut-Rhin': '68',\n",
    "    'Rhône': '69',\n",
    "    'Haute-Saône': '70',\n",
    "    'Saône-et-Loire': '71',\n",
    "    'Sarthe': '72',\n",
    "    'Savoie': '73',\n",
    "    'Haute-Savoie': '74',\n",
    "    'Paris': '75',\n",
    "    'Seine-Maritime': '76',\n",
    "    'Seine-et-Marne': '77',\n",
    "    'Yvelines': '78',\n",
    "    'Deux-Sèvres': '79',\n",
    "    'Somme': '80',\n",
    "    'Tarn': '81',\n",
    "    'Tarn-et-Garonne': '82',\n",
    "    'Var': '83',\n",
    "    'Vaucluse': '84',\n",
    "    'Vendée': '85',\n",
    "    'Vienne': '86',\n",
    "    'Haute-Vienne': '87',\n",
    "    'Vosges': '88',\n",
    "    'Yonne': '89',\n",
    "    'Territoire de Belfort': '90',\n",
    "    'Essonne': '91',\n",
    "    'Hauts-de-Seine': '92',\n",
    "    'Seine-Saint-Denis': '93',\n",
    "    'Val-de-Marne': '94',\n",
    "    'Val-d\\'Oise': '95'\n",
    "}\n",
    "\n",
    "\n",
    "AREA = []\n",
    "for area in CFG.area:\n",
    "    AREA.extend(Administratives[area] )\n",
    "AREA"
   ]
  },
  {
   "cell_type": "code",
   "execution_count": 4,
   "metadata": {},
   "outputs": [],
   "source": [
    "nodes = gpd.read_feather(os.path.join(CFG.data_path, f'[{CFG.area_name}]Gnodes_communes.feather'))"
   ]
  },
  {
   "cell_type": "code",
   "execution_count": 25,
   "metadata": {},
   "outputs": [],
   "source": [
    "nodes_reset = nodes.reset_index()"
   ]
  },
  {
   "cell_type": "code",
   "execution_count": 26,
   "metadata": {},
   "outputs": [
    {
     "data": {
      "text/html": [
       "<div>\n",
       "<style scoped>\n",
       "    .dataframe tbody tr th:only-of-type {\n",
       "        vertical-align: middle;\n",
       "    }\n",
       "\n",
       "    .dataframe tbody tr th {\n",
       "        vertical-align: top;\n",
       "    }\n",
       "\n",
       "    .dataframe thead th {\n",
       "        text-align: right;\n",
       "    }\n",
       "</style>\n",
       "<table border=\"1\" class=\"dataframe\">\n",
       "  <thead>\n",
       "    <tr style=\"text-align: right;\">\n",
       "      <th></th>\n",
       "      <th>osmid</th>\n",
       "      <th>y</th>\n",
       "      <th>x</th>\n",
       "      <th>codgeo</th>\n",
       "      <th>area</th>\n",
       "      <th>sleeping</th>\n",
       "      <th>visit</th>\n",
       "      <th>working</th>\n",
       "      <th>fooding</th>\n",
       "      <th>vehicule</th>\n",
       "      <th>geometry</th>\n",
       "    </tr>\n",
       "  </thead>\n",
       "  <tbody>\n",
       "    <tr>\n",
       "      <th>0</th>\n",
       "      <td>1149451</td>\n",
       "      <td>50.582893</td>\n",
       "      <td>2.143174</td>\n",
       "      <td>62053</td>\n",
       "      <td>sw}KqgzsHtFrFwWhPzQtg@vn@lj@vd@jVx^p_@deAzeA`I...</td>\n",
       "      <td>3.0</td>\n",
       "      <td>1.0</td>\n",
       "      <td>NaN</td>\n",
       "      <td>NaN</td>\n",
       "      <td>NaN</td>\n",
       "      <td>POINT (2.14317 50.58289)</td>\n",
       "    </tr>\n",
       "    <tr>\n",
       "      <th>1</th>\n",
       "      <td>910704</td>\n",
       "      <td>49.717236</td>\n",
       "      <td>3.012390</td>\n",
       "      <td>80284</td>\n",
       "      <td>wwsQaxhnHqLqv@|Aea@`]md@zGLr`@k\\hXiJvCaOcCs|@l...</td>\n",
       "      <td>NaN</td>\n",
       "      <td>1.0</td>\n",
       "      <td>NaN</td>\n",
       "      <td>NaN</td>\n",
       "      <td>NaN</td>\n",
       "      <td>POINT (3.01239 49.71724)</td>\n",
       "    </tr>\n",
       "    <tr>\n",
       "      <th>2</th>\n",
       "      <td>1452239</td>\n",
       "      <td>42.876728</td>\n",
       "      <td>0.610023</td>\n",
       "      <td>31290</td>\n",
       "      <td>scwB_ptdGiNs]tPyd@|e@aEt~@zEvrAdBp`@YnRbMuF|W}...</td>\n",
       "      <td>NaN</td>\n",
       "      <td>NaN</td>\n",
       "      <td>NaN</td>\n",
       "      <td>NaN</td>\n",
       "      <td>NaN</td>\n",
       "      <td>POINT (0.61002 42.87673)</td>\n",
       "    </tr>\n",
       "    <tr>\n",
       "      <th>3</th>\n",
       "      <td>2173628</td>\n",
       "      <td>48.094594</td>\n",
       "      <td>1.514000</td>\n",
       "      <td>28400</td>\n",
       "      <td>grkHusqdHvZcW`]_^z_AbWpLvXfQtDlK}Mnf@|O{GfL|Nv...</td>\n",
       "      <td>NaN</td>\n",
       "      <td>NaN</td>\n",
       "      <td>NaN</td>\n",
       "      <td>NaN</td>\n",
       "      <td>NaN</td>\n",
       "      <td>POINT (1.51400 48.09459)</td>\n",
       "    </tr>\n",
       "    <tr>\n",
       "      <th>4</th>\n",
       "      <td>106436</td>\n",
       "      <td>47.193507</td>\n",
       "      <td>0.099943</td>\n",
       "      <td>37220</td>\n",
       "      <td>oaZqd~~GntAaKgQoh@zGgFthAwXl`Aml@lv@iRpLnOgGzM...</td>\n",
       "      <td>NaN</td>\n",
       "      <td>2.0</td>\n",
       "      <td>NaN</td>\n",
       "      <td>NaN</td>\n",
       "      <td>NaN</td>\n",
       "      <td>POINT (0.09994 47.19351)</td>\n",
       "    </tr>\n",
       "    <tr>\n",
       "      <th>...</th>\n",
       "      <td>...</td>\n",
       "      <td>...</td>\n",
       "      <td>...</td>\n",
       "      <td>...</td>\n",
       "      <td>...</td>\n",
       "      <td>...</td>\n",
       "      <td>...</td>\n",
       "      <td>...</td>\n",
       "      <td>...</td>\n",
       "      <td>...</td>\n",
       "      <td>...</td>\n",
       "    </tr>\n",
       "    <tr>\n",
       "      <th>34455</th>\n",
       "      <td>2893288</td>\n",
       "      <td>46.506657</td>\n",
       "      <td>3.092677</td>\n",
       "      <td>03170</td>\n",
       "      <td>kpyQaka{Gbt@lCvJyZn\\}W~KfFvWfe@}Ad_@sSlf@qp@l`...</td>\n",
       "      <td>NaN</td>\n",
       "      <td>2.0</td>\n",
       "      <td>2.0</td>\n",
       "      <td>NaN</td>\n",
       "      <td>NaN</td>\n",
       "      <td>POINT (3.09268 46.50666)</td>\n",
       "    </tr>\n",
       "    <tr>\n",
       "      <th>34456</th>\n",
       "      <td>186959</td>\n",
       "      <td>49.015889</td>\n",
       "      <td>-0.162877</td>\n",
       "      <td>14394</td>\n",
       "      <td>hhe@mmfjHtCxd@mmA~a@ie@bSkfAbr@oOnMwhAzl@u~@im...</td>\n",
       "      <td>4.0</td>\n",
       "      <td>NaN</td>\n",
       "      <td>NaN</td>\n",
       "      <td>4.0</td>\n",
       "      <td>NaN</td>\n",
       "      <td>POINT (-0.16288 49.01589)</td>\n",
       "    </tr>\n",
       "    <tr>\n",
       "      <th>34457</th>\n",
       "      <td>1405692</td>\n",
       "      <td>48.302289</td>\n",
       "      <td>-3.895241</td>\n",
       "      <td>29115</td>\n",
       "      <td>zy~Vu}weHqLnp@kXd]gGtHeWp~@a]e@at@`Kyx@hPm_@cY...</td>\n",
       "      <td>NaN</td>\n",
       "      <td>1.0</td>\n",
       "      <td>NaN</td>\n",
       "      <td>NaN</td>\n",
       "      <td>NaN</td>\n",
       "      <td>POINT (-3.89524 48.30229)</td>\n",
       "    </tr>\n",
       "    <tr>\n",
       "      <th>34458</th>\n",
       "      <td>366442</td>\n",
       "      <td>47.370808</td>\n",
       "      <td>-0.496845</td>\n",
       "      <td>49308</td>\n",
       "      <td>n|}Aoea`Hud@uJcPoQw@kVlR{Qda@aK`t@oj@~l@{Itj@g...</td>\n",
       "      <td>5.0</td>\n",
       "      <td>4.0</td>\n",
       "      <td>NaN</td>\n",
       "      <td>1.0</td>\n",
       "      <td>NaN</td>\n",
       "      <td>POINT (-0.49684 47.37081)</td>\n",
       "    </tr>\n",
       "    <tr>\n",
       "      <th>34459</th>\n",
       "      <td>120979</td>\n",
       "      <td>45.285099</td>\n",
       "      <td>1.658044</td>\n",
       "      <td>19227</td>\n",
       "      <td>aboIkfisG`]iTdd@kTtPiVv@yd@_`@mf@oEcQbZ}UpVoKz...</td>\n",
       "      <td>2.0</td>\n",
       "      <td>NaN</td>\n",
       "      <td>NaN</td>\n",
       "      <td>NaN</td>\n",
       "      <td>NaN</td>\n",
       "      <td>POINT (1.65804 45.28510)</td>\n",
       "    </tr>\n",
       "  </tbody>\n",
       "</table>\n",
       "<p>34460 rows × 11 columns</p>\n",
       "</div>"
      ],
      "text/plain": [
       "         osmid          y         x codgeo   \n",
       "0      1149451  50.582893  2.143174  62053  \\\n",
       "1       910704  49.717236  3.012390  80284   \n",
       "2      1452239  42.876728  0.610023  31290   \n",
       "3      2173628  48.094594  1.514000  28400   \n",
       "4       106436  47.193507  0.099943  37220   \n",
       "...        ...        ...       ...    ...   \n",
       "34455  2893288  46.506657  3.092677  03170   \n",
       "34456   186959  49.015889 -0.162877  14394   \n",
       "34457  1405692  48.302289 -3.895241  29115   \n",
       "34458   366442  47.370808 -0.496845  49308   \n",
       "34459   120979  45.285099  1.658044  19227   \n",
       "\n",
       "                                                    area  sleeping  visit   \n",
       "0      sw}KqgzsHtFrFwWhPzQtg@vn@lj@vd@jVx^p_@deAzeA`I...       3.0    1.0  \\\n",
       "1      wwsQaxhnHqLqv@|Aea@`]md@zGLr`@k\\hXiJvCaOcCs|@l...       NaN    1.0   \n",
       "2      scwB_ptdGiNs]tPyd@|e@aEt~@zEvrAdBp`@YnRbMuF|W}...       NaN    NaN   \n",
       "3      grkHusqdHvZcW`]_^z_AbWpLvXfQtDlK}Mnf@|O{GfL|Nv...       NaN    NaN   \n",
       "4      oaZqd~~GntAaKgQoh@zGgFthAwXl`Aml@lv@iRpLnOgGzM...       NaN    2.0   \n",
       "...                                                  ...       ...    ...   \n",
       "34455  kpyQaka{Gbt@lCvJyZn\\}W~KfFvWfe@}Ad_@sSlf@qp@l`...       NaN    2.0   \n",
       "34456  hhe@mmfjHtCxd@mmA~a@ie@bSkfAbr@oOnMwhAzl@u~@im...       4.0    NaN   \n",
       "34457  zy~Vu}weHqLnp@kXd]gGtHeWp~@a]e@at@`Kyx@hPm_@cY...       NaN    1.0   \n",
       "34458  n|}Aoea`Hud@uJcPoQw@kVlR{Qda@aK`t@oj@~l@{Itj@g...       5.0    4.0   \n",
       "34459  aboIkfisG`]iTdd@kTtPiVv@yd@_`@mf@oEcQbZ}UpVoKz...       2.0    NaN   \n",
       "\n",
       "       working  fooding  vehicule                   geometry  \n",
       "0          NaN      NaN       NaN   POINT (2.14317 50.58289)  \n",
       "1          NaN      NaN       NaN   POINT (3.01239 49.71724)  \n",
       "2          NaN      NaN       NaN   POINT (0.61002 42.87673)  \n",
       "3          NaN      NaN       NaN   POINT (1.51400 48.09459)  \n",
       "4          NaN      NaN       NaN   POINT (0.09994 47.19351)  \n",
       "...        ...      ...       ...                        ...  \n",
       "34455      2.0      NaN       NaN   POINT (3.09268 46.50666)  \n",
       "34456      NaN      4.0       NaN  POINT (-0.16288 49.01589)  \n",
       "34457      NaN      NaN       NaN  POINT (-3.89524 48.30229)  \n",
       "34458      NaN      1.0       NaN  POINT (-0.49684 47.37081)  \n",
       "34459      NaN      NaN       NaN   POINT (1.65804 45.28510)  \n",
       "\n",
       "[34460 rows x 11 columns]"
      ]
     },
     "execution_count": 26,
     "metadata": {},
     "output_type": "execute_result"
    }
   ],
   "source": [
    "nodes_reset"
   ]
  },
  {
   "attachments": {},
   "cell_type": "markdown",
   "metadata": {},
   "source": [
    "Jointure with others features for communes :"
   ]
  },
  {
   "cell_type": "code",
   "execution_count": 30,
   "metadata": {},
   "outputs": [],
   "source": [
    "# Mika a récupéré les geojson des communes dans car_vizs et get-geo-data. Apparemment c'est lourd.\n",
    "\n",
    "\n",
    "\n",
    "data_path = 'datas'\n",
    "file_name2 = 'communes-20220101'\n",
    "ext2 = '.shp'\n",
    "url ='https://www.data.gouv.fr/fr/datasets/r/0e117c06-248f-45e5-8945-0e79d9136165'\n",
    "temp_path = 'temp_unzip'\n",
    "\n",
    "\n",
    "try: \n",
    "    communes = gpd.read_feather(os.path.join(data_path,file_name2 + '.feather'))\n",
    "except:\n",
    "    # Zip file from url  \n",
    "    zip_file = requests.get(url).content\n",
    "    os.makedirs(temp_path, exist_ok=True)\n",
    "    with zipfile.ZipFile(io.BytesIO(zip_file)) as archive:\n",
    "        archive.extractall(temp_path)\n",
    "    communes = gpd.read_file(os.path.join(temp_path,file_name2 + ext2))   \n",
    "    shutil.rmtree(temp_path) \n",
    "    \n",
    "    communes.to_feather(os.path.join(data_path,file_name2 + '.feather'))\n",
    "    "
   ]
  },
  {
   "cell_type": "code",
   "execution_count": 34,
   "metadata": {},
   "outputs": [],
   "source": [
    "file_name = 'voitures-par-commune-par-energie'\n",
    "communes = gpd.read_feather(os.path.join(data_path,file_name + '.feather'))"
   ]
  },
  {
   "attachments": {},
   "cell_type": "markdown",
   "metadata": {},
   "source": [
    "--------------------------"
   ]
  },
  {
   "attachments": {},
   "cell_type": "markdown",
   "metadata": {},
   "source": [
    "Fonctions de requêtes neo4j :"
   ]
  },
  {
   "cell_type": "code",
   "execution_count": 5,
   "metadata": {},
   "outputs": [],
   "source": [
    "def delete_all(tx):\n",
    "    query = 'MATCH (n) \\\n",
    "                DETACH DELETE n \\\n",
    "                RETURN count(*) AS COUNT'\n",
    "    result = tx.run(query)\n",
    "    return result.data()"
   ]
  },
  {
   "cell_type": "code",
   "execution_count": 22,
   "metadata": {},
   "outputs": [],
   "source": [
    "def delete_city(tx):\n",
    "    query = 'MATCH (n:CITY) \\\n",
    "                DETACH DELETE n \\\n",
    "                RETURN count(*) AS COUNT'\n",
    "    result = tx.run(query)\n",
    "    return result.data()"
   ]
  },
  {
   "cell_type": "code",
   "execution_count": 56,
   "metadata": {},
   "outputs": [],
   "source": [
    "def delete_just_edges(tx):\n",
    "    query = 'MATCH ()-[r]-() \\\n",
    "                DELETE r \\\n",
    "                RETURN count(*) AS COUNT'\n",
    "    result = tx.run(query)\n",
    "    return result.data()"
   ]
  },
  {
   "cell_type": "code",
   "execution_count": 6,
   "metadata": {},
   "outputs": [],
   "source": [
    "def create_node(tx, node):\n",
    "    query = \"   WITH $node AS node \\\n",
    "                CREATE (r:ROAD {road_index:node}) \\\n",
    "                RETURN count(r) AS COUNT\"\n",
    "    \n",
    "    result = tx.run(query, node=node)\n",
    "    return result.data()"
   ]
  },
  {
   "cell_type": "code",
   "execution_count": 20,
   "metadata": {},
   "outputs": [],
   "source": [
    "def create_node_per_batch(tx, props_list):\n",
    "\n",
    "    query = \"   UNWIND $props_list AS map \\\n",
    "                CREATE (n:CITY) \\\n",
    "                SET n = map \\\n",
    "                RETURN count(n) AS COUNT\"\n",
    "\n",
    "    result = tx.run(query, props_list=props_list)\n",
    "    return result.data()"
   ]
  },
  {
   "cell_type": "code",
   "execution_count": 8,
   "metadata": {},
   "outputs": [],
   "source": [
    "def create_edge_between_ROAD_POINTS(tx, props_list):\n",
    "\n",
    "    query = \"   UNWIND $props_list AS map \\\n",
    "                MERGE (n1:ROAD_POINT {osmid : map.u})-[r:CONNECT]->(n2:ROAD_POINT {osmid : map.v}) \\\n",
    "                SET r = map \\\n",
    "                RETURN count(r) AS COUNT\"\n",
    "\n",
    "    result = tx.run(query, props_list=props_list)\n",
    "    return result.data()"
   ]
  },
  {
   "cell_type": "code",
   "execution_count": 9,
   "metadata": {},
   "outputs": [],
   "source": [
    "def check_collection(tx, id):\n",
    "\n",
    "    query = \"  WITH $id AS id \\\n",
    "                MATCH (n) \\\n",
    "                WHERE n.osmid = id \\\n",
    "                RETURN count(n) \\\n",
    "                 \"\n",
    "    \n",
    "    result = tx.run(query, id=id)\n",
    "    return result.data()"
   ]
  },
  {
   "cell_type": "code",
   "execution_count": 10,
   "metadata": {},
   "outputs": [],
   "source": [
    "def all_fusion_nodes(tx, id):\n",
    "\n",
    "    query = \"   WITH $id AS id \\\n",
    "                MATCH (n) \\\n",
    "                WHERE n.osmid = id \\\n",
    "                WITH collect(n) AS nodes \\\n",
    "                CALL apoc.refactor.mergeNodes( \\\n",
    "                                        nodes, \\\n",
    "                                        {properties: { \\\n",
    "                                        osmid: 'discard', \\\n",
    "                                        `.*`:'combine'} \\\n",
    "                                            }) \\\n",
    "                YIELD node \\\n",
    "                RETURN node \"\n",
    "    \n",
    "    result = tx.run(query,  id=id)\n",
    "    return result.data()"
   ]
  },
  {
   "cell_type": "code",
   "execution_count": 11,
   "metadata": {},
   "outputs": [],
   "source": [
    "def match_alone_nodes(tx):\n",
    "    query = \" MATCH (r) \\\n",
    "            WHERE NOT (r)-[:LINKED_TO]-() \\\n",
    "            RETURN r.road_index AS road_index\"\n",
    "    \n",
    "    result = tx.run(query)\n",
    "    return result.data()"
   ]
  },
  {
   "attachments": {},
   "cell_type": "markdown",
   "metadata": {},
   "source": [
    "Drivers session for Neo4j :"
   ]
  },
  {
   "cell_type": "code",
   "execution_count": 12,
   "metadata": {},
   "outputs": [],
   "source": [
    "driver = GraphDatabase.driver(\n",
    "  \"bolt://localhost:7687\",\n",
    "  auth=basic_auth(\"neo4j\", PASSWORD_NEO4J))"
   ]
  },
  {
   "attachments": {},
   "cell_type": "markdown",
   "metadata": {},
   "source": [
    "Ardoise (pour effacer tout ancien graph)"
   ]
  },
  {
   "cell_type": "code",
   "execution_count": 23,
   "metadata": {},
   "outputs": [
    {
     "name": "stdout",
     "output_type": "stream",
     "text": [
      "Total Numbers of deleted nodes: 34460\n"
     ]
    }
   ],
   "source": [
    "with driver.session() as session:\n",
    "\n",
    "    count_list = []\n",
    "\n",
    "    result = session.execute_write(delete_city)\n",
    "\n",
    "driver.close()\n",
    "\n",
    "nb_nodes = result[0]['COUNT']\n",
    "                \n",
    "print(f'Total Numbers of deleted nodes: {nb_nodes}')"
   ]
  },
  {
   "cell_type": "code",
   "execution_count": 40,
   "metadata": {},
   "outputs": [
    {
     "name": "stdout",
     "output_type": "stream",
     "text": [
      "Total Numbers of deleted nodes: 2\n"
     ]
    }
   ],
   "source": [
    "with driver.session() as session:\n",
    "\n",
    "    count_list = []\n",
    "\n",
    "    result = session.execute_write(delete_all)\n",
    "\n",
    "driver.close()\n",
    "\n",
    "nb_nodes = result[0]['COUNT']\n",
    "                \n",
    "print(f'Total Numbers of deleted nodes: {nb_nodes}')"
   ]
  },
  {
   "attachments": {},
   "cell_type": "markdown",
   "metadata": {},
   "source": [
    "Ardoise (pour effacer seulement les relations)"
   ]
  },
  {
   "cell_type": "code",
   "execution_count": 158,
   "metadata": {},
   "outputs": [
    {
     "name": "stdout",
     "output_type": "stream",
     "text": [
      "Total Numbers of deleted edges: 0\n"
     ]
    }
   ],
   "source": [
    "with driver.session() as session:\n",
    "\n",
    "    count_list = []\n",
    "\n",
    "    result = session.execute_write(delete_just_edges)\n",
    "\n",
    "driver.close()\n",
    "\n",
    "nb_edges = result[0]['COUNT']\n",
    "                \n",
    "print(f'Total Numbers of deleted edges: {nb_edges}')"
   ]
  },
  {
   "attachments": {},
   "cell_type": "markdown",
   "metadata": {},
   "source": [
    "---"
   ]
  },
  {
   "attachments": {},
   "cell_type": "markdown",
   "metadata": {},
   "source": [
    "NODES GENERATION :"
   ]
  },
  {
   "cell_type": "code",
   "execution_count": 13,
   "metadata": {},
   "outputs": [
    {
     "name": "stdout",
     "output_type": "stream",
     "text": [
      "<class 'geopandas.geodataframe.GeoDataFrame'>\n",
      "RangeIndex: 34460 entries, 0 to 34459\n",
      "Data columns (total 11 columns):\n",
      " #   Column    Non-Null Count  Dtype   \n",
      "---  ------    --------------  -----   \n",
      " 0   osmid     34460 non-null  object  \n",
      " 1   y         34460 non-null  float64 \n",
      " 2   x         34460 non-null  float64 \n",
      " 3   codgeo    34460 non-null  object  \n",
      " 4   area      34460 non-null  object  \n",
      " 5   sleeping  15412 non-null  float64 \n",
      " 6   visit     17921 non-null  float64 \n",
      " 7   working   6950 non-null   float64 \n",
      " 8   fooding   6616 non-null   float64 \n",
      " 9   vehicule  4166 non-null   float64 \n",
      " 10  geometry  34460 non-null  geometry\n",
      "dtypes: float64(7), geometry(1), object(3)\n",
      "memory usage: 2.9+ MB\n"
     ]
    }
   ],
   "source": [
    "nodes_reset.info()"
   ]
  },
  {
   "cell_type": "code",
   "execution_count": 14,
   "metadata": {},
   "outputs": [],
   "source": [
    "nodes_reset.drop(['area'], axis=1, inplace=True)"
   ]
  },
  {
   "cell_type": "code",
   "execution_count": 15,
   "metadata": {},
   "outputs": [],
   "source": [
    "primary_key = 'osmid'\n",
    "object_entity = 'COMMUNE'"
   ]
  },
  {
   "cell_type": "code",
   "execution_count": 16,
   "metadata": {},
   "outputs": [],
   "source": [
    "nodes_reset.drop(['geometry'], axis=1, inplace=True)"
   ]
  },
  {
   "cell_type": "code",
   "execution_count": 17,
   "metadata": {},
   "outputs": [
    {
     "name": "stdout",
     "output_type": "stream",
     "text": [
      "conversion of objects to parameters list for neo4j...\n"
     ]
    }
   ],
   "source": [
    "print(\"conversion of objects to parameters list for neo4j...\")\n",
    "\n",
    "props_list = nodes_reset.to_dict(\"records\")"
   ]
  },
  {
   "cell_type": "code",
   "execution_count": 18,
   "metadata": {},
   "outputs": [],
   "source": [
    "BATCH_SIZE = 10000"
   ]
  },
  {
   "cell_type": "code",
   "execution_count": 19,
   "metadata": {},
   "outputs": [],
   "source": [
    "# --- Batch function ---\n",
    "\n",
    "def batch(iterable, n=1):\n",
    "    l = len(iterable)\n",
    "    for ndx in range(0, l, n):\n",
    "        yield iterable[ndx:min(ndx + n, l)]\n"
   ]
  },
  {
   "cell_type": "code",
   "execution_count": 21,
   "metadata": {},
   "outputs": [
    {
     "name": "stderr",
     "output_type": "stream",
     "text": [
      "/tmp/ipykernel_20387/3878216737.py:8: DeprecationWarning: write_transaction has been renamed to execute_write\n",
      "  result = session.write_transaction(create_node_per_batch, props_batch)\n"
     ]
    },
    {
     "name": "stdout",
     "output_type": "stream",
     "text": [
      "Number of nodes created : 10000...\n",
      "Number of nodes created : 20000...\n",
      "Number of nodes created : 30000...\n",
      "Number of nodes created : 34460...\n",
      "Bath_list: [10000, 10000, 10000, 4460]\n",
      "Total Numbers of nodes created/updates: 34460\n"
     ]
    }
   ],
   "source": [
    "with driver.session() as session:\n",
    "\n",
    "    count_list = []\n",
    "\n",
    "    # Batch the writing session :\n",
    "\n",
    "    for props_batch in batch(props_list, BATCH_SIZE):\n",
    "        result = session.write_transaction(create_node_per_batch, props_batch)\n",
    "        count_list.append(result[0]['COUNT'])\n",
    "        nb_updates = sum(count_list)\n",
    "        print(f'Number of nodes created : {nb_updates}...')\n",
    "\n",
    "        \n",
    "\n",
    "    driver.close()\n",
    "\n",
    "print(f'Bath_list: {count_list}')\n",
    "\n",
    "print(f'Total Numbers of nodes created/updates: {nb_updates}')"
   ]
  },
  {
   "attachments": {},
   "cell_type": "markdown",
   "metadata": {},
   "source": [
    "---"
   ]
  }
 ],
 "metadata": {
  "kernelspec": {
   "display_name": "ECartoMobile",
   "language": "python",
   "name": "python3"
  },
  "language_info": {
   "codemirror_mode": {
    "name": "ipython",
    "version": 3
   },
   "file_extension": ".py",
   "mimetype": "text/x-python",
   "name": "python",
   "nbconvert_exporter": "python",
   "pygments_lexer": "ipython3",
   "version": "3.11.3"
  },
  "orig_nbformat": 4
 },
 "nbformat": 4,
 "nbformat_minor": 2
}
